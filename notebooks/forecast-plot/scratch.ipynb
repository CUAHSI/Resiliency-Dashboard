{
 "cells": [
  {
   "cell_type": "code",
   "execution_count": 1,
   "id": "ea04f761-d04f-4b39-8423-79dfaffeea58",
   "metadata": {},
   "outputs": [],
   "source": [
    "from forecast import Forecasts, ForecastTypes"
   ]
  },
  {
   "cell_type": "code",
   "execution_count": 2,
   "id": "5e23138a-f8d0-433a-a69f-e89516186140",
   "metadata": {},
   "outputs": [],
   "source": [
    "f_string = 'medium_range'\n",
    "e_string = '0'"
   ]
  },
  {
   "cell_type": "code",
   "execution_count": 3,
   "id": "8b6de9f5-82db-4b16-8bc0-d8dedea6f1b9",
   "metadata": {},
   "outputs": [],
   "source": [
    "ftype = ForecastTypes(f_string)"
   ]
  },
  {
   "cell_type": "code",
   "execution_count": 4,
   "id": "4c2dc6d7-0966-4b15-b384-d7d0a8e6eb9d",
   "metadata": {},
   "outputs": [
    {
     "data": {
      "text/plain": [
       "'medium_range'"
      ]
     },
     "execution_count": 4,
     "metadata": {},
     "output_type": "execute_result"
    }
   ],
   "source": [
    "ftype.value"
   ]
  },
  {
   "cell_type": "code",
   "execution_count": 5,
   "id": "1b09acb0-2fc2-4ab4-8448-68a99bfbcd46",
   "metadata": {},
   "outputs": [],
   "source": [
    "import creds\n",
    "fdata = Forecasts(creds.key)"
   ]
  },
  {
   "cell_type": "code",
   "execution_count": 12,
   "id": "b49e369f-91db-447a-9a02-74a5c117bc51",
   "metadata": {},
   "outputs": [
    {
     "ename": "TypeError",
     "evalue": "argument of type 'int' is not iterable",
     "output_type": "error",
     "traceback": [
      "\u001b[0;31m---------------------------------------------------------------------------\u001b[0m",
      "\u001b[0;31mTypeError\u001b[0m                                 Traceback (most recent call last)",
      "Cell \u001b[0;32mIn[12], line 1\u001b[0m\n\u001b[0;32m----> 1\u001b[0m \u001b[43mfdata\u001b[49m\u001b[38;5;241;43m.\u001b[39;49m\u001b[43mfilter_forecast_ensembles\u001b[49m\u001b[43m(\u001b[49m\u001b[43mftype\u001b[49m\u001b[43m,\u001b[49m\u001b[43m \u001b[49m\u001b[38;5;241;43m0\u001b[39;49m\u001b[43m)\u001b[49m\n",
      "File \u001b[0;32m~/Documents/work/community-resilience/notebooks/forecast-plot/forecast.py:72\u001b[0m, in \u001b[0;36mForecasts.filter_forecast_ensembles\u001b[0;34m(self, forecast_type, ensembles)\u001b[0m\n\u001b[1;32m     68\u001b[0m     \u001b[38;5;28;01mraise\u001b[39;00m \u001b[38;5;167;01mValueError\u001b[39;00m(\u001b[38;5;124mf\u001b[39m\u001b[38;5;124m\"\u001b[39m\u001b[38;5;124mInvalid forecast type: \u001b[39m\u001b[38;5;132;01m{\u001b[39;00mforecast_type\u001b[38;5;132;01m}\u001b[39;00m\u001b[38;5;124m\"\u001b[39m)\n\u001b[1;32m     70\u001b[0m valid_ensembles \u001b[38;5;241m=\u001b[39m \u001b[38;5;28mself\u001b[39m\u001b[38;5;241m.\u001b[39mENSEMBLES[forecast_type]\n\u001b[0;32m---> 72\u001b[0m \u001b[38;5;28;01mif\u001b[39;00m \u001b[38;5;124;43m'\u001b[39;49m\u001b[38;5;124;43mall\u001b[39;49m\u001b[38;5;124;43m'\u001b[39;49m\u001b[43m \u001b[49m\u001b[38;5;129;43;01min\u001b[39;49;00m\u001b[43m \u001b[49m\u001b[43mensembles\u001b[49m:\n\u001b[1;32m     73\u001b[0m     \u001b[38;5;28;01mreturn\u001b[39;00m valid_ensembles  \u001b[38;5;66;03m# Return all IDs for the given forecast type\u001b[39;00m\n\u001b[1;32m     74\u001b[0m \u001b[38;5;28;01melse\u001b[39;00m:\n",
      "\u001b[0;31mTypeError\u001b[0m: argument of type 'int' is not iterable"
     ]
    }
   ],
   "source": [
    "fdata.filter_forecast_ensembles(ftype, 0)"
   ]
  },
  {
   "cell_type": "code",
   "execution_count": null,
   "id": "42207335-b4e5-43f2-9f8b-98de14bc7245",
   "metadata": {},
   "outputs": [],
   "source": []
  }
 ],
 "metadata": {
  "kernelspec": {
   "display_name": "Python 3 (ipykernel)",
   "language": "python",
   "name": "python3"
  },
  "language_info": {
   "codemirror_mode": {
    "name": "ipython",
    "version": 3
   },
   "file_extension": ".py",
   "mimetype": "text/x-python",
   "name": "python",
   "nbconvert_exporter": "python",
   "pygments_lexer": "ipython3",
   "version": "3.10.10"
  }
 },
 "nbformat": 4,
 "nbformat_minor": 5
}
